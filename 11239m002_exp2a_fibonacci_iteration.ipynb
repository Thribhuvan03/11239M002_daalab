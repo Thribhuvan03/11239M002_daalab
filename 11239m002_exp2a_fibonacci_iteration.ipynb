{
  "nbformat": 4,
  "nbformat_minor": 0,
  "metadata": {
    "colab": {
      "provenance": [],
      "authorship_tag": "ABX9TyPCo1KE+YAptRZ0btLXkhsy",
      "include_colab_link": true
    },
    "kernelspec": {
      "name": "python3",
      "display_name": "Python 3"
    },
    "language_info": {
      "name": "python"
    }
  },
  "cells": [
    {
      "cell_type": "markdown",
      "metadata": {
        "id": "view-in-github",
        "colab_type": "text"
      },
      "source": [
        "<a href=\"https://colab.research.google.com/github/Seshu11239a103/11239A103_DAA_Lab/blob/main/11239A103_exp2a_fibonacci_iteration.ipynb\" target=\"_parent\"><img src=\"https://colab.research.google.com/assets/colab-badge.svg\" alt=\"Open In Colab\"/></a>"
      ]
    },
    {
      "cell_type": "code",
      "execution_count": 2,
      "metadata": {
        "colab": {
          "base_uri": "https://localhost:8080/"
        },
        "id": "11-A5wqAZVEY",
        "outputId": "a56d3a38-214f-4f54-e60f-c0eb1f17f658"
      },
      "outputs": [
        {
          "output_type": "stream",
          "name": "stdout",
          "text": [
            "enter the value:4\n",
            "First 4 Fibonacci numbers (iterative):\n",
            "[0, 1, 1, 2]\n"
          ]
        }
      ],
      "source": [
        "\n",
        "\n",
        "def fibonacci_iterative(n):\n",
        "    fib_sequence = []\n",
        "    a, b = 0, 1\n",
        "    for _ in range(n):\n",
        "        fib_sequence.append(a)\n",
        "        a, b = b, a + b\n",
        "    return fib_sequence\n",
        "\n",
        "# Example: Get the first 10 Fibonacci numbers\n",
        "n = int(input(\"enter the value:\"))\n",
        "print(f\"First {n} Fibonacci numbers (iterative):\")\n",
        "print(fibonacci_iterative(n))\n",
        "\n",
        "\n"
      ]
    }
  ]
}