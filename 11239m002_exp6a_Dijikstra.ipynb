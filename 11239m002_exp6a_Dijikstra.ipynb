{
  "nbformat": 4,
  "nbformat_minor": 0,
  "metadata": {
    "colab": {
      "provenance": [],
      "authorship_tag": "ABX9TyOEBol7cxrZT7Zlg1vMGhTl",
      "include_colab_link": true
    },
    "kernelspec": {
      "name": "python3",
      "display_name": "Python 3"
    },
    "language_info": {
      "name": "python"
    }
  },
  "cells": [
    {
      "cell_type": "markdown",
      "metadata": {
        "id": "view-in-github",
        "colab_type": "text"
      },
      "source": [
        "<a href=\"https://colab.research.google.com/github/Seshu11239a103/11239A103_DAA_Lab/blob/main/11239A103_exp6a_Dijikstra.ipynb\" target=\"_parent\"><img src=\"https://colab.research.google.com/assets/colab-badge.svg\" alt=\"Open In Colab\"/></a>"
      ]
    },
    {
      "cell_type": "code",
      "execution_count": 1,
      "metadata": {
        "colab": {
          "base_uri": "https://localhost:8080/"
        },
        "id": "T34bcvgFdtHH",
        "outputId": "7daf09f9-02c6-4eea-be99-42ae7bb99a64"
      },
      "outputs": [
        {
          "output_type": "stream",
          "name": "stdout",
          "text": [
            "Source Vertex: A\n",
            "Dijkstra's Algorithm Results (Shortest Paths Table):\n",
            "+----------+-------------------+-----------------------+\n",
            "| Vertex   | Previous Vertex   |   Distance from Start |\n",
            "+==========+===================+=======================+\n",
            "| A        |                   |                     0 |\n",
            "+----------+-------------------+-----------------------+\n",
            "| B        | A                 |                     4 |\n",
            "+----------+-------------------+-----------------------+\n",
            "| C        | A                 |                     2 |\n",
            "+----------+-------------------+-----------------------+\n",
            "| D        | C                 |                     5 |\n",
            "+----------+-------------------+-----------------------+\n",
            "\n",
            "Shortest path from A to D: A -> C -> D\n",
            "Shortest distance: 5\n"
          ]
        }
      ],
      "source": [
        "\n",
        "import heapq\n",
        "from tabulate import tabulate\n",
        "def dijkstra(graph, start_vertex):\n",
        "    priority_queue = [(0, start_vertex)]\n",
        "    shortest_paths = {start_vertex: (None, 0)}\n",
        "    while priority_queue:\n",
        "        current_distance, current_vertex = heapq.heappop(priority_queue)\n",
        "        if current_distance > shortest_paths[current_vertex][1]:\n",
        "            continue\n",
        "        for neighbor, weight in graph[current_vertex].items():\n",
        "            distance = current_distance + weight\n",
        "            if neighbor not in shortest_paths or distance < shortest_paths[neighbor][1]:\n",
        "                shortest_paths[neighbor] = (current_vertex, distance)\n",
        "                heapq.heappush(priority_queue, (distance, neighbor))\n",
        "    return shortest_paths\n",
        "def reconstruct_path(shortest_paths, target_vertex):\n",
        "    path = []\n",
        "    current_vertex = target_vertex\n",
        "    while current_vertex is not None:\n",
        "        path.append(current_vertex)\n",
        "        current_vertex = shortest_paths[current_vertex][0]\n",
        "    return path[::-1]\n",
        "def display_table(shortest_paths):\n",
        "    table = []\n",
        "    for vertex, (prev, dist) in shortest_paths.items():\n",
        "        table.append([vertex, prev, dist])\n",
        "    headers = [\"Vertex\", \"Previous Vertex\", \"Distance from Start\"]\n",
        "    return tabulate(table, headers, tablefmt=\"grid\")\n",
        "graph = {\n",
        "    'A': {'B': 4, 'C': 2},\n",
        "    'B': {'A': 4, 'C': 5, 'D': 10},\n",
        "    'C': {'A': 2, 'B': 5, 'D': 3},\n",
        "    'D': {'B': 10, 'C': 3}\n",
        "}\n",
        "start_vertex = 'A'\n",
        "shortest_paths = dijkstra(graph, start_vertex)\n",
        "table_output = display_table(shortest_paths)\n",
        "print(f\"Source Vertex: {start_vertex}\")\n",
        "print(\"Dijkstra's Algorithm Results (Shortest Paths Table):\")\n",
        "print(table_output)\n",
        "end_vertex = 'D'\n",
        "path = reconstruct_path(shortest_paths, end_vertex)\n",
        "shortest_distance = shortest_paths[end_vertex][1]\n",
        "print(f\"\\nShortest path from {start_vertex} to {end_vertex}: {' -> '.join(path)}\")\n",
        "print(f\"Shortest distance: {shortest_distance}\")\n",
        "\n",
        ""
      ]
    }
  ]
}