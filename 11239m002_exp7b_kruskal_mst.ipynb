{
  "nbformat": 4,
  "nbformat_minor": 0,
  "metadata": {
    "colab": {
      "provenance": [],
      "authorship_tag": "ABX9TyPfeuWXF3qR4REFKzzdIwXZ",
      "include_colab_link": true
    },
    "kernelspec": {
      "name": "python3",
      "display_name": "Python 3"
    },
    "language_info": {
      "name": "python"
    }
  },
  "cells": [
    {
      "cell_type": "markdown",
      "metadata": {
        "id": "view-in-github",
        "colab_type": "text"
      },
      "source": [
        "<a href=\"https://colab.research.google.com/github/Seshu11239a103/11239A103_DAA_Lab/blob/main/11239A103_exp7b_kruskal_mst.ipynb\" target=\"_parent\"><img src=\"https://colab.research.google.com/assets/colab-badge.svg\" alt=\"Open In Colab\"/></a>"
      ]
    },
    {
      "cell_type": "code",
      "execution_count": 1,
      "metadata": {
        "colab": {
          "base_uri": "https://localhost:8080/"
        },
        "id": "vwuADWCufuyO",
        "outputId": "3d95a175-a1b1-4480-897e-7783ff64488f"
      },
      "outputs": [
        {
          "output_type": "stream",
          "name": "stdout",
          "text": [
            "Graph with its edges and weights:\n",
            "Edge (0 - 1) with weight: 4\n",
            "Edge (0 - 2) with weight: 3\n",
            "Edge (1 - 2) with weight: 1\n",
            "Edge (1 - 3) with weight: 2\n",
            "Edge (2 - 3) with weight: 4\n",
            "Edge (2 - 4) with weight: 5\n",
            "Edge (3 - 4) with weight: 3\n",
            "Edge (3 - 5) with weight: 6\n",
            "Edge (4 - 5) with weight: 7\n",
            "\n",
            "Edges in the Minimum Spanning Tree:\n",
            "Edge (1 - 2) with weight: 1\n",
            "Edge (1 - 3) with weight: 2\n",
            "Edge (0 - 2) with weight: 3\n",
            "Edge (3 - 4) with weight: 3\n",
            "Edge (3 - 5) with weight: 6\n",
            "Total weight of the MST: 15\n"
          ]
        }
      ],
      "source": [
        "\n",
        "\n",
        "class Graph:\n",
        "    def __init__(self, vertices):\n",
        "        self.V = vertices\n",
        "        self.edges = []\n",
        "    def add_edge(self, u, v, weight):\n",
        "        self.edges.append((weight, u, v))\n",
        "    def display_graph(self):\n",
        "        print(\"Graph with its edges and weights:\")\n",
        "        for weight, u, v in self.edges:\n",
        "            print(f\"Edge ({u} - {v}) with weight: {weight}\")\n",
        "    def find(self, parent, i):\n",
        "        if parent[i] == i:\n",
        "            return i\n",
        "        else:\n",
        "            return self.find(parent, parent[i])\n",
        "    def union(self, parent, rank, x, y):\n",
        "        xroot = self.find(parent, x)\n",
        "        yroot = self.find(parent, y)\n",
        "        if rank[xroot] < rank[yroot]:\n",
        "            parent[xroot] = yroot\n",
        "        elif rank[xroot] > rank[yroot]:\n",
        "            parent[yroot] = xroot\n",
        "        else:\n",
        "            parent[yroot] = xroot\n",
        "            rank[xroot] += 1\n",
        "    def kruskal_mst(self):\n",
        "        self.edges.sort()\n",
        "        parent = [i for i in range(self.V)]\n",
        "        rank = [0] * self.V\n",
        "        mst_edges = []\n",
        "        total_weight = 0\n",
        "        for weight, u, v in self.edges:\n",
        "            uroot = self.find(parent, u)\n",
        "            vroot = self.find(parent, v)\n",
        "            if uroot != vroot:\n",
        "                mst_edges.append((u, v, weight))\n",
        "                total_weight += weight\n",
        "                self.union(parent, rank, uroot, vroot)\n",
        "        print(\"\\nEdges in the Minimum Spanning Tree:\")\n",
        "        for u, v, weight in mst_edges:\n",
        "            print(f\"Edge ({u} - {v}) with weight: {weight}\")\n",
        "\n",
        "        print(f\"Total weight of the MST: {total_weight}\")\n",
        "g = Graph(6)\n",
        "g.add_edge(0, 1, 4)\n",
        "g.add_edge(0, 2, 3)\n",
        "g.add_edge(1, 2, 1)\n",
        "g.add_edge(1, 3, 2)\n",
        "g.add_edge(2, 3, 4)\n",
        "g.add_edge(2, 4, 5)\n",
        "g.add_edge(3, 4, 3)\n",
        "g.add_edge(3, 5, 6)\n",
        "g.add_edge(4, 5, 7)\n",
        "\n",
        "g.display_graph()\n",
        "\n",
        "g.kruskal_mst()\n",
        "\n",
        "\n"
      ]
    }
  ]
}