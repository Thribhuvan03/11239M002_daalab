{
  "nbformat": 4,
  "nbformat_minor": 0,
  "metadata": {
    "colab": {
      "provenance": [],
      "authorship_tag": "ABX9TyPRfeqlKcp0QDQDnMDlT3WO",
      "include_colab_link": true
    },
    "kernelspec": {
      "name": "python3",
      "display_name": "Python 3"
    },
    "language_info": {
      "name": "python"
    }
  },
  "cells": [
    {
      "cell_type": "markdown",
      "metadata": {
        "id": "view-in-github",
        "colab_type": "text"
      },
      "source": [
        "<a href=\"https://colab.research.google.com/github/Seshu11239a103/11239A103_DAA_Lab/blob/main/11239A103_exp3_binpacking.ipynb\" target=\"_parent\"><img src=\"https://colab.research.google.com/assets/colab-badge.svg\" alt=\"Open In Colab\"/></a>"
      ]
    },
    {
      "cell_type": "code",
      "execution_count": null,
      "metadata": {
        "id": "rIxGDqcrbCBh"
      },
      "outputs": [],
      "source": [
        "\n",
        "def first_fit(items, bin_capacity):\n",
        "    bins = []\n",
        "    for item in items:\n",
        "        placed = False\n",
        "        for b in bins:\n",
        "            if sum(b) + item <= bin_capacity:\n",
        "                b.append(item)\n",
        "                placed = True\n",
        "                break\n",
        "        if not placed:\n",
        "            bins.append([item])\n",
        "    return bins\n",
        "\n",
        "def next_fit(items, bin_capacity):\n",
        "    bins = []\n",
        "    current_bin = []\n",
        "    for item in items:\n",
        "        if sum(current_bin) + item <= bin_capacity:\n",
        "            current_bin.append(item)\n",
        "        else:\n",
        "            bins.append(current_bin)\n",
        "            current_bin = [item]\n",
        "    if current_bin:\n",
        "        bins.append(current_bin)\n",
        "    return bins\n",
        "\n",
        "def worst_fit(items, bin_capacity):\n",
        "    bins = []\n",
        "    for item in items:\n",
        "        max_bin = None\n",
        "        max_space = -1\n",
        "        for b in bins:\n",
        "            space_left = bin_capacity - sum(b)\n",
        "            if space_left >= item and space_left > max_space:\n",
        "                max_space = space_left\n",
        "                max_bin = b\n",
        "        if max_bin:\n",
        "            max_bin.append(item)\n",
        "        else:\n",
        "            bins.append([item])\n",
        "    return bins\n",
        "\n",
        "# Example usage:\n",
        "items = [4, 8, 1, 4, 2, 1, 10, 9]\n",
        "bin_capacity = 10\n",
        "\n",
        "# First-Fit\n",
        "print(\"First Fit:\", first_fit(items, bin_capacity))\n",
        "\n",
        "# Next-Fit\n",
        "print(\"Next Fit:\", next_fit(items, bin_capacity))\n",
        "\n",
        "# Worst-Fit\n",
        "print(\"Worst Fit:\", worst_fit(items, bin_capacity))\n",
        "\n",
        "\n"
      ]
    }
  ]
}