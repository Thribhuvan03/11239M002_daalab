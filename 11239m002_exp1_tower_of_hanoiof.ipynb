{
  "nbformat": 4,
  "nbformat_minor": 0,
  "metadata": {
    "colab": {
      "provenance": [],
      "authorship_tag": "ABX9TyMkSZ6J2sMASfoQv1XU1OAb",
      "include_colab_link": true
    },
    "kernelspec": {
      "name": "python3",
      "display_name": "Python 3"
    },
    "language_info": {
      "name": "python"
    }
  },
  "cells": [
    {
      "cell_type": "markdown",
      "metadata": {
        "id": "view-in-github",
        "colab_type": "text"
      },
      "source": [
        "<a href=\"https://colab.research.google.com/github/Seshu11239a103/11239A103_DAA_Lab/blob/main/11230A103_exp1_tower_of_hanoiof.ipynb\" target=\"_parent\"><img src=\"https://colab.research.google.com/assets/colab-badge.svg\" alt=\"Open In Colab\"/></a>"
      ]
    },
    {
      "cell_type": "code",
      "execution_count": null,
      "metadata": {
        "colab": {
          "base_uri": "https://localhost:8080/"
        },
        "id": "xVzw5wudRkmc",
        "outputId": "1ed1c766-028b-439e-8009-b8104fe57213"
      },
      "outputs": [
        {
          "output_type": "stream",
          "name": "stdout",
          "text": [
            "enter no of disks:3\n",
            "move disk 1 fromA to C\n",
            "move disk 2 from A to B\n",
            "move disk 1 fromC to B\n",
            "move disk 3 from A to C\n",
            "move disk 1 fromB to A\n",
            "move disk 2 from B to C\n",
            "move disk 1 fromA to C\n"
          ]
        }
      ],
      "source": [
        "\n",
        "def tower_of_hanoi(n,source,auxiliary,target):\n",
        "    if n==1:\n",
        "        print(f\"move disk 1 from{source} to {target}\")\n",
        "        return\n",
        "    tower_of_hanoi(n-1,source,target,auxiliary)\n",
        "    print(f\"move disk {n} from {source} to {target}\")\n",
        "    tower_of_hanoi(n-1,auxiliary,source,target)\n",
        "if__name__=\"__main__\"\n",
        "n=int(input(\"enter no of disks:\"))\n",
        "tower_of_hanoi(n,'A','B','C',)\n",
        "\n"
      ]
    }
  ]
}