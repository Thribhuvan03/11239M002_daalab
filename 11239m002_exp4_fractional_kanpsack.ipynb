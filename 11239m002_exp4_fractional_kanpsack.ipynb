{
  "nbformat": 4,
  "nbformat_minor": 0,
  "metadata": {
    "colab": {
      "provenance": [],
      "authorship_tag": "ABX9TyN7jd+gHoMjTikxfMrNf2RR",
      "include_colab_link": true
    },
    "kernelspec": {
      "name": "python3",
      "display_name": "Python 3"
    },
    "language_info": {
      "name": "python"
    }
  },
  "cells": [
    {
      "cell_type": "markdown",
      "metadata": {
        "id": "view-in-github",
        "colab_type": "text"
      },
      "source": [
        "<a href=\"https://colab.research.google.com/github/Seshu11239a103/11239A103_DAA_Lab/blob/main/11239A103_exp4_fractional_kanpsack.ipynb\" target=\"_parent\"><img src=\"https://colab.research.google.com/assets/colab-badge.svg\" alt=\"Open In Colab\"/></a>"
      ]
    },
    {
      "cell_type": "code",
      "execution_count": 1,
      "metadata": {
        "colab": {
          "base_uri": "https://localhost:8080/"
        },
        "id": "Sbbbobezb7H4",
        "outputId": "f93748c2-24b9-4d13-f204-472cfbf05a0a"
      },
      "outputs": [
        {
          "output_type": "stream",
          "name": "stdout",
          "text": [
            "Maximum value in the knapsack: 240.00\n",
            "Items taken (value, weight, fraction):\n",
            "Value: 60, Weight: 10, Fraction taken: 1\n",
            "Value: 100, Weight: 20, Fraction taken: 1\n",
            "Value: 120, Weight: 30, Fraction taken: 2/3\n"
          ]
        }
      ],
      "source": [
        "\n",
        "\n",
        "from fractions import Fraction\n",
        "\n",
        "class Item:\n",
        "    def __init__(self, value, weight):\n",
        "        self.value = value\n",
        "        self.weight = weight\n",
        "        self.ratio = value / weight  # Value to weight ratio\n",
        "\n",
        "def fractional_knapsack(capacity, items):\n",
        "    # Sort items by their value-to-weight ratio in descending order\n",
        "    items.sort(key=lambda x: x.ratio, reverse=True)\n",
        "\n",
        "    total_value = 0.0  # Total value accumulated in the knapsack\n",
        "    fractions = []  # To store the fraction of each item taken\n",
        "\n",
        "    for item in items:\n",
        "        if capacity <= 0:  # If the knapsack is full, break out of the loop\n",
        "            break\n",
        "\n",
        "        if item.weight <= capacity:\n",
        "            # If the item can be fully accommodated\n",
        "            total_value += item.value\n",
        "            fractions.append((item.value, item.weight, Fraction(1)))  # Full item taken\n",
        "            capacity -= item.weight\n",
        "        else:\n",
        "            # If the item cannot be fully accommodated, take the fraction\n",
        "            fraction = Fraction(capacity, item.weight)\n",
        "            total_value += item.value * float(fraction)\n",
        "            fractions.append((item.value, item.weight, fraction))  # Fraction of item taken\n",
        "            capacity = 0  # The knapsack is now full\n",
        "\n",
        "    return total_value, fractions\n",
        "\n",
        "# Example usage\n",
        "if __name__ == \"__main__\":\n",
        "    items = [\n",
        "        Item(60, 10),  # Value: 60, Weight: 10\n",
        "        Item(100, 20), # Value: 100, Weight: 20\n",
        "        Item(120, 30)  # Value: 120, Weight: 30\n",
        "    ]\n",
        "    capacity = 50\n",
        "    max_value, fractions = fractional_knapsack(capacity, items)\n",
        "\n",
        "    print(f\"Maximum value in the knapsack: {max_value:.2f}\")\n",
        "    print(\"Items taken (value, weight, fraction):\")\n",
        "    for value, weight, fraction in fractions:\n",
        "        print(f\"Value: {value}, Weight: {weight}, Fraction taken: {fraction}\")\n",
        "\n"
      ]
    }
  ]
}