{
  "nbformat": 4,
  "nbformat_minor": 0,
  "metadata": {
    "colab": {
      "provenance": [],
      "authorship_tag": "ABX9TyNcE9u+AJBW4d84F1Uv23mh",
      "include_colab_link": true
    },
    "kernelspec": {
      "name": "python3",
      "display_name": "Python 3"
    },
    "language_info": {
      "name": "python"
    }
  },
  "cells": [
    {
      "cell_type": "markdown",
      "metadata": {
        "id": "view-in-github",
        "colab_type": "text"
      },
      "source": [
        "<a href=\"https://colab.research.google.com/github/Seshu11239a103/11239A103_DAA_Lab/blob/main/11239A103_exp9_randamized_algorithms.ipynb\" target=\"_parent\"><img src=\"https://colab.research.google.com/assets/colab-badge.svg\" alt=\"Open In Colab\"/></a>"
      ]
    },
    {
      "cell_type": "code",
      "execution_count": 1,
      "metadata": {
        "colab": {
          "base_uri": "https://localhost:8080/"
        },
        "id": "k8hhRh6sgHEa",
        "outputId": "c254f1c1-762a-4a09-aa7d-65060a66b8e0"
      },
      "outputs": [
        {
          "output_type": "stream",
          "name": "stdout",
          "text": [
            "Source: 0, Sink: 5\n",
            "Maximum possible flow: 23\n",
            "Augmenting paths and their flow:\n",
            "Path 1: 0 -> 2 -> 4 -> 5, Flow: 4\n",
            "Path 2: 0 -> 2 -> 4 -> 3 -> 5, Flow: 7\n",
            "Path 3: 0 -> 1 -> 3 -> 5, Flow: 12\n"
          ]
        }
      ],
      "source": [
        "\n",
        "from collections import defaultdict\n",
        "\n",
        "class Graph:\n",
        "    def __init__(self, vertices):\n",
        "        self.V = vertices  # Number of vertices\n",
        "        self.graph = defaultdict(list)  # Adjacency list\n",
        "        self.capacity = {}  # Capacity of edges\n",
        "\n",
        "    def add_edge(self, u, v, w):\n",
        "        self.graph[u].append(v)\n",
        "        self.graph[v].append(u)  # Add reverse edge for residual graph\n",
        "        self.capacity[(u, v)] = w  # Set the capacity of the edge\n",
        "        self.capacity[(v, u)] = 0  # Initialize reverse edge capacity to 0\n",
        "\n",
        "    def dfs(self, s, t, parent):\n",
        "        visited = set()\n",
        "        stack = [s]\n",
        "        visited.add(s)\n",
        "\n",
        "        while stack:\n",
        "            u = stack.pop()\n",
        "\n",
        "            for v in self.graph[u]:\n",
        "                if v not in visited and self.capacity[(u, v)] > 0:  # If not visited and has capacity\n",
        "                    stack.append(v)\n",
        "                    visited.add(v)\n",
        "                    parent[v] = u\n",
        "                    if v == t:\n",
        "                        return True\n",
        "        return False\n",
        "\n",
        "    def ford_fulkerson(self, source, sink):\n",
        "        parent = {}\n",
        "        max_flow = 0\n",
        "        augmenting_paths = []\n",
        "\n",
        "        while self.dfs(source, sink, parent):\n",
        "            path_flow = float('Inf')\n",
        "            s = sink\n",
        "            path = []\n",
        "\n",
        "            # Find the maximum flow through the path found by DFS\n",
        "            while s != source:\n",
        "                path_flow = min(path_flow, self.capacity[(parent[s], s)])\n",
        "                path.append(s)\n",
        "                s = parent[s]\n",
        "            path.append(source)\n",
        "            path.reverse()  # Reverse the path to get it from source to sink\n",
        "\n",
        "            # Update residual capacities of the edges and reverse edges\n",
        "            v = sink\n",
        "            while v != source:\n",
        "                u = parent[v]\n",
        "                self.capacity[(u, v)] -= path_flow\n",
        "                self.capacity[(v, u)] += path_flow\n",
        "                v = parent[v]\n",
        "\n",
        "            max_flow += path_flow\n",
        "            augmenting_paths.append((path, path_flow))\n",
        "\n",
        "        return max_flow, augmenting_paths\n",
        "\n",
        "# Example usage\n",
        "if __name__ == \"__main__\":\n",
        "    g = Graph(6)  # Create a graph with 6 vertices\n",
        "\n",
        "    # Add edges with capacities\n",
        "    g.add_edge(0, 1, 16)\n",
        "    g.add_edge(0, 2, 13)\n",
        "    g.add_edge(1, 2, 10)\n",
        "    g.add_edge(1, 3, 12)\n",
        "    g.add_edge(2, 1, 4)\n",
        "    g.add_edge(2, 4, 14)\n",
        "    g.add_edge(3, 2, 9)\n",
        "    g.add_edge(3, 5, 20)\n",
        "    g.add_edge(4, 3, 7)\n",
        "    g.add_edge(4, 5, 4)\n",
        "\n",
        "    source = 0  # Source vertex\n",
        "    sink = 5    # Sink vertex\n",
        "\n",
        "    max_flow, augmenting_paths = g.ford_fulkerson(source, sink)\n",
        "\n",
        "    print(f\"Source: {source}, Sink: {sink}\")\n",
        "    print(f\"Maximum possible flow: {max_flow}\")\n",
        "    print(\"Augmenting paths and their flow:\")\n",
        "    for i, (path, flow) in enumerate(augmenting_paths, start=1):\n",
        "        print(f\"Path {i}: {' -> '.join(map(str, path))}, Flow: {flow}\")\n",
        "\n"
      ]
    }
  ]
}