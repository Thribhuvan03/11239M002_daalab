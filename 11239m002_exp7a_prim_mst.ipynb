{
  "nbformat": 4,
  "nbformat_minor": 0,
  "metadata": {
    "colab": {
      "provenance": [],
      "authorship_tag": "ABX9TyOd17lUtgz/db+gdQHYJ07u",
      "include_colab_link": true
    },
    "kernelspec": {
      "name": "python3",
      "display_name": "Python 3"
    },
    "language_info": {
      "name": "python"
    }
  },
  "cells": [
    {
      "cell_type": "markdown",
      "metadata": {
        "id": "view-in-github",
        "colab_type": "text"
      },
      "source": [
        "<a href=\"https://colab.research.google.com/github/Seshu11239a103/11239A103_DAA_Lab/blob/main/11239A103_exp7a_prim_mst.ipynb\" target=\"_parent\"><img src=\"https://colab.research.google.com/assets/colab-badge.svg\" alt=\"Open In Colab\"/></a>"
      ]
    },
    {
      "cell_type": "code",
      "execution_count": 1,
      "metadata": {
        "colab": {
          "base_uri": "https://localhost:8080/"
        },
        "id": "KLUSMtjyfDv7",
        "outputId": "b8ae482e-7ea2-4b46-e951-e6472e9e92b4"
      },
      "outputs": [
        {
          "output_type": "stream",
          "name": "stdout",
          "text": [
            "Graph with its edges and weights:\n",
            "Edge (0 - 1) with weight: 4\n",
            "Edge (0 - 2) with weight: 3\n",
            "Edge (1 - 2) with weight: 1\n",
            "Edge (1 - 3) with weight: 2\n",
            "Edge (2 - 3) with weight: 4\n",
            "Edge (2 - 4) with weight: 5\n",
            "Edge (3 - 4) with weight: 3\n",
            "Edge (3 - 5) with weight: 6\n",
            "Edge (4 - 5) with weight: 7\n",
            "\n",
            "Edges in the Minimum Spanning Tree:\n",
            "Edge (0 - 2) with weight: 3\n",
            "Edge (2 - 1) with weight: 1\n",
            "Edge (1 - 3) with weight: 2\n",
            "Edge (3 - 4) with weight: 3\n",
            "Edge (3 - 5) with weight: 6\n",
            "Total weight of the MST: 15\n"
          ]
        }
      ],
      "source": [
        "\n",
        "import heapq\n",
        "\n",
        "class Graph:\n",
        "    def __init__(self, vertices):\n",
        "        self.V = vertices\n",
        "        self.graph = {}\n",
        "    def add_edge(self, u, v, weight):\n",
        "        if u not in self.graph:\n",
        "            self.graph[u] = []\n",
        "        if v not in self.graph:\n",
        "            self.graph[v] = []\n",
        "        self.graph[u].append((v, weight))\n",
        "        self.graph[v].append((u, weight))\n",
        "    def display_graph(self):\n",
        "        print(\"Graph with its edges and weights:\")\n",
        "        for vertex in self.graph:\n",
        "            for neighbor, weight in self.graph[vertex]:\n",
        "                if vertex < neighbor:\n",
        "                    print(f\"Edge ({vertex} - {neighbor}) with weight: {weight}\")\n",
        "    def prim_mst(self):\n",
        "        start = 0\n",
        "        in_mst = [False] * self.V\n",
        "        min_heap = [(0, start)]\n",
        "        mst_edges = []\n",
        "        key = [float('inf')] * self.V\n",
        "        key[start] = 0\n",
        "        parent = [-1] * self.V\n",
        "\n",
        "        while min_heap:\n",
        "            weight, u = heapq.heappop(min_heap)\n",
        "            if in_mst[u]:\n",
        "                continue\n",
        "            in_mst[u] = True\n",
        "            if parent[u] != -1:\n",
        "                mst_edges.append((parent[u], u, weight))\n",
        "            for v, weight in self.graph[u]:\n",
        "                if not in_mst[v] and weight < key[v]:\n",
        "                    key[v] = weight\n",
        "                    heapq.heappush(min_heap, (key[v], v))\n",
        "                    parent[v] = u\n",
        "        print(\"\\nEdges in the Minimum Spanning Tree:\")\n",
        "        total_weight = 0\n",
        "        for u, v, weight in mst_edges:\n",
        "            print(f\"Edge ({u} - {v}) with weight: {weight}\")\n",
        "            total_weight += weight\n",
        "\n",
        "        print(f\"Total weight of the MST: {total_weight}\")\n",
        "\n",
        "\n",
        "g = Graph(6)\n",
        "g.add_edge(0, 1, 4)\n",
        "g.add_edge(0, 2, 3)\n",
        "g.add_edge(1, 2, 1)\n",
        "g.add_edge(1, 3, 2)\n",
        "g.add_edge(2, 3, 4)\n",
        "g.add_edge(2, 4, 5)\n",
        "g.add_edge(3, 4, 3)\n",
        "g.add_edge(3, 5, 6)\n",
        "g.add_edge(4, 5, 7)\n",
        "\n",
        "g.display_graph()\n",
        "\n",
        "g.prim_mst()\n",
        "\n",
        "\n"
      ]
    }
  ]
}