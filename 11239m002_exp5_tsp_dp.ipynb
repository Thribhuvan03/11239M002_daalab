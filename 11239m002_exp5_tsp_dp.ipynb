{
  "nbformat": 4,
  "nbformat_minor": 0,
  "metadata": {
    "colab": {
      "provenance": [],
      "authorship_tag": "ABX9TyNXuu2y0qRyi7GcIEPx2RBZ",
      "include_colab_link": true
    },
    "kernelspec": {
      "name": "python3",
      "display_name": "Python 3"
    },
    "language_info": {
      "name": "python"
    }
  },
  "cells": [
    {
      "cell_type": "markdown",
      "metadata": {
        "id": "view-in-github",
        "colab_type": "text"
      },
      "source": [
        "<a href=\"https://colab.research.google.com/github/Seshu11239a103/11239A103_DAA_Lab/blob/main/11239A103_exp5_tsp_dp.ipynb\" target=\"_parent\"><img src=\"https://colab.research.google.com/assets/colab-badge.svg\" alt=\"Open In Colab\"/></a>"
      ]
    },
    {
      "cell_type": "code",
      "execution_count": 1,
      "metadata": {
        "colab": {
          "base_uri": "https://localhost:8080/"
        },
        "id": "EyxFZnOfdGny",
        "outputId": "3d7a75f3-8e3d-45df-f1f7-304871561324"
      },
      "outputs": [
        {
          "output_type": "stream",
          "name": "stdout",
          "text": [
            "Minimum Cost: 45\n",
            "Shortest Path: 0 -> 1 -> 3 -> 2 -> 0\n"
          ]
        }
      ],
      "source": [
        "\n",
        "\n",
        "import itertools\n",
        "\n",
        "def tsp_dynamic_programming(graph):\n",
        "    n = len(graph)\n",
        "    # Create a memoization table\n",
        "    memo = {}\n",
        "\n",
        "    # Define a recursive function to find the minimum cost\n",
        "    def visit(city, visited):\n",
        "        # If all cities have been visited, return to the starting city\n",
        "        if visited == (1 << n) - 1:\n",
        "            return graph[city][0]  # Return to the starting city\n",
        "\n",
        "        # If the result is already computed, return it\n",
        "        if (city, visited) in memo:\n",
        "            return memo[(city, visited)]\n",
        "\n",
        "        # Initialize the minimum cost to a large number\n",
        "        min_cost = float('inf')\n",
        "        next_city = -1\n",
        "\n",
        "        # Try to visit all cities\n",
        "        for next in range(n):\n",
        "            # If the city has not been visited yet\n",
        "            if visited & (1 << next) == 0:\n",
        "                # Calculate the cost of visiting the next city\n",
        "                cost = graph[city][next] + visit(next, visited | (1 << next))\n",
        "                # Update the minimum cost and the next city\n",
        "                if cost < min_cost:\n",
        "                    min_cost = cost\n",
        "                    next_city = next\n",
        "\n",
        "        # Store the result in the memoization table\n",
        "        memo[(city, visited)] = min_cost\n",
        "        return min_cost\n",
        "\n",
        "    # Start the tour from the first city (index 0)\n",
        "    min_cost = visit(0, 1)\n",
        "\n",
        "    # To find the path, we need to reconstruct it\n",
        "    path = []\n",
        "    visited = 1\n",
        "    current_city = 0\n",
        "    path.append(current_city)\n",
        "\n",
        "    while len(path) < n:\n",
        "        next_city = -1\n",
        "        min_cost = float('inf')\n",
        "\n",
        "        for next in range(n):\n",
        "            if visited & (1 << next) == 0:\n",
        "                cost = graph[current_city][next] + visit(next, visited | (1 << next))\n",
        "                if cost < min_cost:\n",
        "                    min_cost = cost\n",
        "                    next_city = next\n",
        "\n",
        "        path.append(next_city)\n",
        "        visited |= (1 << next_city)\n",
        "        current_city = next_city\n",
        "\n",
        "    # Return to the starting city\n",
        "    path.append(0)\n",
        "\n",
        "    return min_cost, path\n",
        "\n",
        "# Example graph represented as an adjacency matrix\n",
        "graph = [\n",
        "    [0, 10, 15, 20],\n",
        "    [10, 0, 35, 25],\n",
        "    [15, 35, 0, 30],\n",
        "    [20, 25, 30, 0]\n",
        "]\n",
        "\n",
        "min_cost, shortest_path = tsp_dynamic_programming(graph)\n",
        "\n",
        "print(\"Minimum Cost:\", min_cost)\n",
        "print(\"Shortest Path:\", \" -> \".join(map(str, shortest_path)))\n",
        "\n",
        ""
      ]
    }
  ]
}