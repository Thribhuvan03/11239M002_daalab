{
  "nbformat": 4,
  "nbformat_minor": 0,
  "metadata": {
    "colab": {
      "provenance": [],
      "authorship_tag": "ABX9TyOdspFWlDvMpbbyRfiocU09",
      "include_colab_link": true
    },
    "kernelspec": {
      "name": "python3",
      "display_name": "Python 3"
    },
    "language_info": {
      "name": "python"
    }
  },
  "cells": [
    {
      "cell_type": "markdown",
      "metadata": {
        "id": "view-in-github",
        "colab_type": "text"
      },
      "source": [
        "<a href=\"https://colab.research.google.com/github/Seshu11239a103/11239A103_DAA_Lab/blob/main/11239A103_exp10_approximation_algorithms.ipynb\" target=\"_parent\"><img src=\"https://colab.research.google.com/assets/colab-badge.svg\" alt=\"Open In Colab\"/></a>"
      ]
    },
    {
      "cell_type": "code",
      "execution_count": 1,
      "metadata": {
        "colab": {
          "base_uri": "https://localhost:8080/"
        },
        "id": "nDPFGc9siHZj",
        "outputId": "5bc54271-8725-4bc8-cc86-2bb967129b18"
      },
      "outputs": [
        {
          "output_type": "stream",
          "name": "stdout",
          "text": [
            "Vertex Cover:1\n",
            "2\n",
            "3\n",
            "4\n",
            "5\n",
            "6\n",
            "7\n",
            "\n"
          ]
        }
      ],
      "source": [
        "\n",
        "\n",
        "MAX_VERTICES = 100\n",
        "graph = [[0 for _ in range(MAX_VERTICES)] for _ in range(MAX_VERTICES)]\n",
        "included = [False for _ in range(MAX_VERTICES)]\n",
        "# Function to find Vertex Cover using the APPROX-VERTEX_COVER algorithm\n",
        "\n",
        "def approx_vertex_cover(vertices, edges):\n",
        "    edges_remaining = [row[:] for row in graph]\n",
        "    while edges > 0:\n",
        "        for i in range(vertices):\n",
        "            for j in range(vertices):\n",
        "                if edges_remaining[i][j]:\n",
        "                    u = i\n",
        "                    v = j\n",
        "                    break\n",
        "        included[u] = included[v] = True\n",
        "        for i in range(vertices):\n",
        "            edges_remaining[u][i] = edges_remaining[i][u] = False\n",
        "            edges_remaining[v][i] = edges_remaining[i][v] = False\n",
        "        edges -= 1\n",
        "if __name__ == \"__main__\":\n",
        "    vertices = 8\n",
        "    edges = 10\n",
        "    edges_data = [(1, 6), (1, 2), (1, 4), (2, 3), (2, 4),(6, 7), (4, 7), (7, 8), (3, 5), (8, 5)]\n",
        "\n",
        "for u, v in edges_data:\n",
        "    graph[u][v] = graph[v][u] = 1\n",
        "    approx_vertex_cover(vertices, edges)\n",
        "print(\"Vertex Cover:\", end=\"\")\n",
        "for i in range(1, vertices + 1):\n",
        "    if included[i]:\n",
        "        print(i, end=\"\")\n",
        "    print()\n",
        "\n",
        "\n"
      ]
    }
  ]
}